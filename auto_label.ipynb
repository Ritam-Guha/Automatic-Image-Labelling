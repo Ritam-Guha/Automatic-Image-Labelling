{
 "cells": [
  {
   "cell_type": "markdown",
   "metadata": {
    "colab_type": "text",
    "id": "RX57A5VmDsu9"
   },
   "source": [
    "# Let's install some of the dependencies at first"
   ]
  },
  {
   "cell_type": "code",
   "execution_count": null,
   "metadata": {
    "colab": {},
    "colab_type": "code",
    "id": "LCI6oFg7eFhE"
   },
   "outputs": [],
   "source": [
    "# !pip install opencv-python\n",
    "# !pip install sklearn\n",
    "# !pip install shutil"
   ]
  },
  {
   "cell_type": "markdown",
   "metadata": {
    "colab_type": "text",
    "id": "rn7FDar1EgEJ"
   },
   "source": [
    "# Importing libraries"
   ]
  },
  {
   "cell_type": "code",
   "execution_count": 2,
   "metadata": {
    "colab": {},
    "colab_type": "code",
    "id": "NrujKrjBs0qN"
   },
   "outputs": [],
   "source": [
    "import tensorflow as tf\n",
    "from tensorflow.keras.applications.resnet50 import ResNet50\n",
    "import cv2\n",
    "import glob\n",
    "import numpy as np\n",
    "from tensorflow.keras.applications.resnet50 import preprocess_input\n",
    "from sklearn.cluster import KMeans\n",
    "from sklearn.preprocessing import minmax_scale\n",
    "from IPython.display import clear_output\n",
    "import shutil\n",
    "import os\n",
    "from PIL import Image as PImage\n",
    "from matplotlib import pyplot as plt"
   ]
  },
  {
   "cell_type": "markdown",
   "metadata": {
    "colab_type": "text",
    "id": "kW-1DCCBEkJy"
   },
   "source": [
    "# Preparing the model using ResNet50 network pre-trained on ImageNet dataset"
   ]
  },
  {
   "cell_type": "code",
   "execution_count": 3,
   "metadata": {
    "colab": {},
    "colab_type": "code",
    "id": "gR8KhTB8tCBN"
   },
   "outputs": [],
   "source": [
    "model = tf.keras.Sequential()\n",
    "model.add(ResNet50(include_top=False, weights='imagenet'))\n",
    "model.layers[0].trainable = False"
   ]
  },
  {
   "cell_type": "code",
   "execution_count": 4,
   "metadata": {
    "colab": {
     "base_uri": "https://localhost:8080/",
     "height": 187
    },
    "colab_type": "code",
    "id": "9a1Z9glRvpGd",
    "outputId": "3663eb00-0baf-4323-d1a9-d17cb67d2702"
   },
   "outputs": [
    {
     "name": "stdout",
     "output_type": "stream",
     "text": [
      "Model: \"sequential\"\n",
      "_________________________________________________________________\n",
      "Layer (type)                 Output Shape              Param #   \n",
      "=================================================================\n",
      "resnet50 (Functional)        (None, None, None, 2048)  23587712  \n",
      "=================================================================\n",
      "Total params: 23,587,712\n",
      "Trainable params: 0\n",
      "Non-trainable params: 23,587,712\n",
      "_________________________________________________________________\n"
     ]
    }
   ],
   "source": [
    "model.summary()"
   ]
  },
  {
   "cell_type": "markdown",
   "metadata": {
    "colab_type": "text",
    "id": "tEuacMkqFxif"
   },
   "source": [
    "# Extract vectors representing the images from the model"
   ]
  },
  {
   "cell_type": "code",
   "execution_count": 5,
   "metadata": {
    "colab": {},
    "colab_type": "code",
    "id": "8rQDxLdTtFtN"
   },
   "outputs": [],
   "source": [
    "def extract_vector(path):\n",
    "    full_path = path + '*'\n",
    "    resnet_feature_list = []\n",
    "    id = 0\n",
    "    id_to_pic = {}\n",
    "    for im in glob.glob(full_path):\n",
    "        id_to_pic[id]=im.replace(path, '')\n",
    "        im = PImage.open(im)\n",
    "        im = im.resize((224,224))\n",
    "        img = preprocess_input(np.expand_dims(im.copy(), axis=0))\n",
    "        resnet_feature = model.predict(img)\n",
    "        resnet_feature_np = np.array(resnet_feature)\n",
    "        resnet_feature_list.append(resnet_feature_np.flatten())\n",
    "        id += 1\n",
    "\n",
    "    return id_to_pic, np.array(resnet_feature_list)"
   ]
  },
  {
   "cell_type": "code",
   "execution_count": 6,
   "metadata": {
    "colab": {
     "base_uri": "https://localhost:8080/",
     "height": 34
    },
    "colab_type": "code",
    "id": "hv6dVG3itzSZ",
    "outputId": "40b16db8-b629-4cf8-fc61-b92ad89ba451"
   },
   "outputs": [
    {
     "name": "stdout",
     "output_type": "stream",
     "text": [
      "6 pics loaded...\n",
      "{0: 'rat3.jpeg', 1: 'dog2.jpg', 2: 'dog1.jpeg', 3: 'dog3.jpeg', 4: 'rat2.jpg', 5: 'rat1.jpeg'}\n"
     ]
    }
   ],
   "source": [
    "base_path = 'Test_Pics/'\n",
    "id_to_pic, feat_set = extract_vector(base_path)\n",
    "print('{} pics loaded...'.format(len(id_to_pic)))\n",
    "print(id_to_pic)"
   ]
  },
  {
   "cell_type": "markdown",
   "metadata": {
    "colab_type": "text",
    "id": "tWZa-3T_GnDM"
   },
   "source": [
    "# Select the most appropriate number of clusters based on the elbow rule"
   ]
  },
  {
   "cell_type": "code",
   "execution_count": 7,
   "metadata": {
    "colab": {},
    "colab_type": "code",
    "id": "wvm-GhGDeFhU"
   },
   "outputs": [],
   "source": [
    "min_cluster = 1\n",
    "max_cluster = len(id_to_pic)\n",
    "sum_of_squared_distances = []\n",
    "idx_to_cluster = {}\n",
    "K = range(min_cluster, max_cluster+1)\n",
    "count = 0\n",
    "for k in K:\n",
    "    idx_to_cluster[count] = k\n",
    "    kmeans = KMeans(n_clusters=k, random_state=0).fit(feat_set)\n",
    "    sum_of_squared_distances.append(kmeans.inertia_)\n",
    "    count += 1\n",
    "sum_of_squared_distances = minmax_scale(sum_of_squared_distances, feature_range=(0, 1), axis=0, copy=True)"
   ]
  },
  {
   "cell_type": "code",
   "execution_count": 8,
   "metadata": {
    "colab": {
     "base_uri": "https://localhost:8080/",
     "height": 295
    },
    "colab_type": "code",
    "id": "UmxyShY0eFhX",
    "outputId": "e918ce23-86d0-4c25-f454-82a0326d3c8b"
   },
   "outputs": [
    {
     "data": {
      "image/png": "[encoded data removed]",
      "text/plain": [
       "<Figure size 432x288 with 1 Axes>"
      ]
     },
     "metadata": {
      "needs_background": "light"
     },
     "output_type": "display_data"
    }
   ],
   "source": [
    "plt.plot(K, sum_of_squared_distances, 'bx-')\n",
    "plt.xlabel('k')\n",
    "plt.ylabel('Sum_of_squared_distances')\n",
    "plt.title('Elbow method for optimal k')\n",
    "plt.show()"
   ]
  },
  {
   "cell_type": "code",
   "execution_count": 9,
   "metadata": {
    "colab": {
     "base_uri": "https://localhost:8080/",
     "height": 34
    },
    "colab_type": "code",
    "id": "Mjpv7NQ5guOH",
    "outputId": "b340a2eb-6236-4737-8131-646564a90b92"
   },
   "outputs": [
    {
     "name": "stdout",
     "output_type": "stream",
     "text": [
      "[-1, 0.5886887077605414, 0.13061030553455136, 0.06024632014612032, 0.03859652826149236, -1]\n",
      "Optimal number of clusters: 2\n"
     ]
    }
   ],
   "source": [
    "num_cluster_options = len(sum_of_squared_distances)\n",
    "delta1 = [-1] * num_cluster_options\n",
    "delta2 = [-1] * num_cluster_options\n",
    "strength = [-1] * num_cluster_options\n",
    "relative_strength = [-1] * num_cluster_options\n",
    "for idx in range(1, num_cluster_options):\n",
    "    delta1[idx] = sum_of_squared_distances[idx] - sum_of_squared_distances[idx-1]\n",
    "for idx in range(2,num_cluster_options):\n",
    "    delta2[idx] = delta1[idx] - delta1[idx-1]\n",
    "for idx in range(1, num_cluster_options-1):\n",
    "    strength[idx] = delta2[idx+1] - delta1[idx-1]\n",
    "    relative_strength[idx] = strength[idx]/idx_to_cluster[idx]\n",
    "print(relative_strength)\n",
    "optimal_cluster_count = idx_to_cluster[np.argmax(relative_strength)]\n",
    "print('Optimal number of clusters: {}'.format(optimal_cluster_count))"
   ]
  },
  {
   "cell_type": "markdown",
   "metadata": {
    "colab_type": "text",
    "id": "UfSKqZJbG64d"
   },
   "source": [
    "# Perform KMeans with the optimal number of clusters\n",
    "\n"
   ]
  },
  {
   "cell_type": "code",
   "execution_count": 10,
   "metadata": {
    "colab": {
     "base_uri": "https://localhost:8080/",
     "height": 119
    },
    "colab_type": "code",
    "id": "mwXJqtO-whaN",
    "outputId": "d5abfd41-461e-4887-dc6d-23201de8ddfd"
   },
   "outputs": [
    {
     "name": "stdout",
     "output_type": "stream",
     "text": [
      "rat3.jpeg : 1\n",
      "dog2.jpg : 0\n",
      "dog1.jpeg : 0\n",
      "dog3.jpeg : 0\n",
      "rat2.jpg : 0\n",
      "rat1.jpeg : 0\n"
     ]
    }
   ],
   "source": [
    "kmeans = KMeans(n_clusters=optimal_cluster_count, random_state=0).fit(feat_set)\n",
    "labels = kmeans.labels_\n",
    "for id in range(len(labels)):\n",
    "    print('{} : {}'.format(id_to_pic[id], labels[id]))"
   ]
  },
  {
   "cell_type": "markdown",
   "metadata": {
    "colab_type": "text",
    "id": "AVRt3GDxHLFe"
   },
   "source": [
    "# Create the necessary folders and label the classes appropriately"
   ]
  },
  {
   "cell_type": "code",
   "execution_count": 12,
   "metadata": {
    "colab": {},
    "colab_type": "code",
    "id": "MTmDw2WE0DTl"
   },
   "outputs": [],
   "source": [
    "dataset_name = 'Dogs vs Cats'\n",
    "pics_to_show = 3\n",
    "if not os.path.exists(dataset_name):\n",
    "    os.mkdir(dataset_name)\n",
    "classes = np.unique(labels)\n",
    "class_names = {}\n",
    "for cur_class in classes:\n",
    "    pic_id = np.where(labels==cur_class)[0][0:pics_to_show]\n",
    "    fig, axes = plt.subplots(1,pics_to_show)\n",
    "    count = 0\n",
    "    for pic_idx in pic_id:\n",
    "        file_path = base_path + id_to_pic[pic_idx]\n",
    "        img = PImage.open(file_path)\n",
    "        img = img.resize((224,224))\n",
    "        axes[count].imshow(img)\n",
    "        axes[count].xaxis.set_visible(False)\n",
    "        axes[count].yaxis.set_visible(False)\n",
    "        count += 1\n",
    "    plt.show(fig)\n",
    "    class_names[cur_class] = input('Name of the class: ')\n",
    "    clear_output()\n",
    "    class_dir_path = dataset_name + '/' + class_names[cur_class]\n",
    "    if not os.path.exists(class_dir_path):\n",
    "        os.mkdir(class_dir_path)"
   ]
  },
  {
   "cell_type": "code",
   "execution_count": null,
   "metadata": {
    "colab": {},
    "colab_type": "code",
    "id": "uZKxkSqZJ_Co"
   },
   "outputs": [],
   "source": [
    "for cur_class in classes:\n",
    "    for id in range(len(labels)):\n",
    "        if(labels[id] == cur_class):\n",
    "            img_src = base_path + id_to_pic[id]\n",
    "            img_dest = dataset_name + '/' + class_names[cur_class] + '/' + img_src.replace(base_path,'')\n",
    "            shutil.copyfile(img_src, img_dest)"
   ]
  },
  {
   "cell_type": "code",
   "execution_count": null,
   "metadata": {
    "colab": {},
    "colab_type": "code",
    "id": "xHeVXu-h-4Sr"
   },
   "outputs": [],
   "source": []
  }
 ],
 "metadata": {
  "accelerator": "GPU",
  "colab": {
   "name": "AutoLabeler.ipynb",
   "provenance": []
  },
  "kernelspec": {
   "display_name": "Python 3",
   "language": "python",
   "name": "python3"
  },
  "language_info": {
   "codemirror_mode": {
    "name": "ipython",
    "version": 3
   },
   "file_extension": ".py",
   "mimetype": "text/x-python",
   "name": "python",
   "nbconvert_exporter": "python",
   "pygments_lexer": "ipython3",
   "version": "3.8.5"
  }
 },
 "nbformat": 4,
 "nbformat_minor": 4
}
